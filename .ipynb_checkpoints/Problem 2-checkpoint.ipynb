{
 "metadata": {
  "name": "",
  "signature": "sha256:a06ba6b8d4f38011d163d4862ee53f7bc32724d58ca4cbb63a1759bf2b0a0314"
 },
 "nbformat": 3,
 "nbformat_minor": 0,
 "worksheets": [
  {
   "cells": [
    {
     "cell_type": "code",
     "collapsed": false,
     "input": [
      "def fibonacci_terms(n):\n",
      "    \"\"\"Create fibonacci sequence for n terms (start with 1 and 2)\"\"\"\n",
      "    fib = [1,2]\n",
      "    for x in xrange(2,n):\n",
      "        fib.append(fib[x-1] + fib[x-2])\n",
      "    return fib\n"
     ],
     "language": "python",
     "metadata": {},
     "outputs": [],
     "prompt_number": 21
    },
    {
     "cell_type": "code",
     "collapsed": false,
     "input": [
      "def fibonacci_up_to(n):\n",
      "    \"\"\" Create a fibonacci sequence up to values not exceeding n (start [1,2])\"\"\"\n",
      "    x=2\n",
      "    fib = [1,2]\n",
      "    while fib[x-1] <= n:\n",
      "        fib.append(fib[x-1]+fib[x-2])\n",
      "        x +=1\n",
      "    \n",
      "    return fib[0:x-1] #Should figure out how to get rid of this"
     ],
     "language": "python",
     "metadata": {},
     "outputs": [],
     "prompt_number": 37
    },
    {
     "cell_type": "code",
     "collapsed": false,
     "input": [
      "fib_list = fibonacci_up_to(4000000)\n",
      "ans=0\n",
      "for val in fib_list:\n",
      "    if val % 2 == 0:\n",
      "        ans += val\n",
      "        \n",
      "print ans\n",
      "    "
     ],
     "language": "python",
     "metadata": {},
     "outputs": [
      {
       "output_type": "stream",
       "stream": "stdout",
       "text": [
        "4613732\n"
       ]
      }
     ],
     "prompt_number": 38
    },
    {
     "cell_type": "code",
     "collapsed": false,
     "input": [
      "# Woah , is every 3rd fibnoacci sequence even? WTF mate?"
     ],
     "language": "python",
     "metadata": {},
     "outputs": [],
     "prompt_number": 39
    },
    {
     "cell_type": "code",
     "collapsed": false,
     "input": [],
     "language": "python",
     "metadata": {},
     "outputs": []
    }
   ],
   "metadata": {}
  }
 ]
}
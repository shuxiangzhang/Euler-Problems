{
 "metadata": {
  "name": "",
  "signature": "sha256:83eab29429ec5660096fc57dacc8762da8ca737b65bcc8ec00ae7fa753585f9f"
 },
 "nbformat": 3,
 "nbformat_minor": 0,
 "worksheets": [
  {
   "cells": [
    {
     "cell_type": "markdown",
     "metadata": {},
     "source": [
      "If we list all the natural numbers below 10 that are multiples of 3 or 5, we get 3, 5, 6 and 9. The sum of these multiples is 23.\n",
      "\n",
      "Find the sum of all the multiples of 3 or 5 below 1000."
     ]
    },
    {
     "cell_type": "code",
     "collapsed": false,
     "input": [
      "sum_count = 0\n",
      "for x in xrange(1000):\n",
      "    if x % 3 == 0  or x % 5 == 0:\n",
      "        sum_count += x\n",
      "\n",
      "print sum_count"
     ],
     "language": "python",
     "metadata": {},
     "outputs": [
      {
       "output_type": "stream",
       "stream": "stdout",
       "text": [
        "233168\n"
       ]
      }
     ],
     "prompt_number": 4
    },
    {
     "cell_type": "markdown",
     "metadata": {},
     "source": [
      "Another interesting way of doing it:"
     ]
    },
    {
     "cell_type": "code",
     "collapsed": false,
     "input": [
      "# Simply create the sets\n",
      "set1 = set(range(0,1000,3))\n",
      "set2 = set(range(0,1000,5))\n",
      "\n",
      "#Create a union of both sets\n",
      "ss = set1.union(set2)\n",
      "\n",
      "#Sum\n",
      "\n",
      "ans = sum(ss)\n",
      "\n",
      "print ans"
     ],
     "language": "python",
     "metadata": {},
     "outputs": [
      {
       "output_type": "stream",
       "stream": "stdout",
       "text": [
        "233168\n"
       ]
      }
     ],
     "prompt_number": 8
    },
    {
     "cell_type": "code",
     "collapsed": false,
     "input": [],
     "language": "python",
     "metadata": {},
     "outputs": []
    }
   ],
   "metadata": {}
  }
 ]
}